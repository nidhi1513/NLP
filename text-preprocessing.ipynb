{
 "cells": [
  {
   "cell_type": "code",
   "execution_count": 1,
   "id": "91cef22b",
   "metadata": {
    "_cell_guid": "b1076dfc-b9ad-4769-8c92-a6c4dae69d19",
    "_uuid": "8f2839f25d086af736a60e9eeb907d3b93b6e0e5",
    "execution": {
     "iopub.execute_input": "2024-07-27T04:59:18.683951Z",
     "iopub.status.busy": "2024-07-27T04:59:18.683355Z",
     "iopub.status.idle": "2024-07-27T04:59:20.339075Z",
     "shell.execute_reply": "2024-07-27T04:59:20.337846Z"
    },
    "papermill": {
     "duration": 1.678481,
     "end_time": "2024-07-27T04:59:20.342058",
     "exception": false,
     "start_time": "2024-07-27T04:59:18.663577",
     "status": "completed"
    },
    "tags": []
   },
   "outputs": [],
   "source": [
    "import re\n",
    "\n",
    "import pandas as pd\n",
    "\n",
    "import numpy as np\n",
    "\n",
    "from sklearn.preprocessing import LabelEncoder\n",
    "\n",
    "from sklearn.model_selection import train_test_split\n",
    "\n",
    "from sklearn.metrics import classification_report\n",
    "\n",
    "from sklearn.metrics import accuracy_score\n",
    "\n",
    "import math\n",
    "\n",
    "import nltk\n",
    "\n",
    "from sklearn.feature_extraction.text import CountVectorizer\n",
    "\n",
    "from collections import defaultdict"
   ]
  },
  {
   "cell_type": "code",
   "execution_count": 2,
   "id": "0275da9a",
   "metadata": {
    "execution": {
     "iopub.execute_input": "2024-07-27T04:59:20.378151Z",
     "iopub.status.busy": "2024-07-27T04:59:20.377718Z",
     "iopub.status.idle": "2024-07-27T04:59:20.398676Z",
     "shell.execute_reply": "2024-07-27T04:59:20.397524Z"
    },
    "papermill": {
     "duration": 0.0426,
     "end_time": "2024-07-27T04:59:20.401278",
     "exception": false,
     "start_time": "2024-07-27T04:59:20.358678",
     "status": "completed"
    },
    "tags": []
   },
   "outputs": [
    {
     "name": "stdout",
     "output_type": "stream",
     "text": [
      "/kaggle/input/imdb-dataset-of-50k-movie-reviews/IMDB Dataset.csv\n",
      "/kaggle/input/d/arkhoshghalb/twitter-sentiment-analysis-hatred-speech/train.csv\n",
      "/kaggle/input/d/arkhoshghalb/twitter-sentiment-analysis-hatred-speech/test.csv\n"
     ]
    }
   ],
   "source": [
    "import os\n",
    "for dirname, _, filenames in os.walk('/kaggle/input'):\n",
    "    for filename in filenames:\n",
    "        print(os.path.join(dirname, filename))\n"
   ]
  },
  {
   "cell_type": "code",
   "execution_count": 3,
   "id": "9ad13f4d",
   "metadata": {
    "execution": {
     "iopub.execute_input": "2024-07-27T04:59:20.434576Z",
     "iopub.status.busy": "2024-07-27T04:59:20.434171Z",
     "iopub.status.idle": "2024-07-27T04:59:21.902901Z",
     "shell.execute_reply": "2024-07-27T04:59:21.901811Z"
    },
    "papermill": {
     "duration": 1.488426,
     "end_time": "2024-07-27T04:59:21.905549",
     "exception": false,
     "start_time": "2024-07-27T04:59:20.417123",
     "status": "completed"
    },
    "tags": []
   },
   "outputs": [],
   "source": [
    "df=pd.read_csv('/kaggle/input/imdb-dataset-of-50k-movie-reviews/IMDB Dataset.csv')"
   ]
  },
  {
   "cell_type": "code",
   "execution_count": 4,
   "id": "6260607f",
   "metadata": {
    "execution": {
     "iopub.execute_input": "2024-07-27T04:59:21.939015Z",
     "iopub.status.busy": "2024-07-27T04:59:21.938584Z",
     "iopub.status.idle": "2024-07-27T04:59:21.958522Z",
     "shell.execute_reply": "2024-07-27T04:59:21.957423Z"
    },
    "papermill": {
     "duration": 0.039508,
     "end_time": "2024-07-27T04:59:21.960903",
     "exception": false,
     "start_time": "2024-07-27T04:59:21.921395",
     "status": "completed"
    },
    "tags": []
   },
   "outputs": [
    {
     "data": {
      "text/html": [
       "<div>\n",
       "<style scoped>\n",
       "    .dataframe tbody tr th:only-of-type {\n",
       "        vertical-align: middle;\n",
       "    }\n",
       "\n",
       "    .dataframe tbody tr th {\n",
       "        vertical-align: top;\n",
       "    }\n",
       "\n",
       "    .dataframe thead th {\n",
       "        text-align: right;\n",
       "    }\n",
       "</style>\n",
       "<table border=\"1\" class=\"dataframe\">\n",
       "  <thead>\n",
       "    <tr style=\"text-align: right;\">\n",
       "      <th></th>\n",
       "      <th>review</th>\n",
       "      <th>sentiment</th>\n",
       "    </tr>\n",
       "  </thead>\n",
       "  <tbody>\n",
       "    <tr>\n",
       "      <th>0</th>\n",
       "      <td>One of the other reviewers has mentioned that ...</td>\n",
       "      <td>positive</td>\n",
       "    </tr>\n",
       "    <tr>\n",
       "      <th>1</th>\n",
       "      <td>A wonderful little production. &lt;br /&gt;&lt;br /&gt;The...</td>\n",
       "      <td>positive</td>\n",
       "    </tr>\n",
       "    <tr>\n",
       "      <th>2</th>\n",
       "      <td>I thought this was a wonderful way to spend ti...</td>\n",
       "      <td>positive</td>\n",
       "    </tr>\n",
       "    <tr>\n",
       "      <th>3</th>\n",
       "      <td>Basically there's a family where a little boy ...</td>\n",
       "      <td>negative</td>\n",
       "    </tr>\n",
       "    <tr>\n",
       "      <th>4</th>\n",
       "      <td>Petter Mattei's \"Love in the Time of Money\" is...</td>\n",
       "      <td>positive</td>\n",
       "    </tr>\n",
       "  </tbody>\n",
       "</table>\n",
       "</div>"
      ],
      "text/plain": [
       "                                              review sentiment\n",
       "0  One of the other reviewers has mentioned that ...  positive\n",
       "1  A wonderful little production. <br /><br />The...  positive\n",
       "2  I thought this was a wonderful way to spend ti...  positive\n",
       "3  Basically there's a family where a little boy ...  negative\n",
       "4  Petter Mattei's \"Love in the Time of Money\" is...  positive"
      ]
     },
     "execution_count": 4,
     "metadata": {},
     "output_type": "execute_result"
    }
   ],
   "source": [
    "df.head()"
   ]
  },
  {
   "cell_type": "code",
   "execution_count": 5,
   "id": "d0e69ab1",
   "metadata": {
    "execution": {
     "iopub.execute_input": "2024-07-27T04:59:21.994716Z",
     "iopub.status.busy": "2024-07-27T04:59:21.994282Z",
     "iopub.status.idle": "2024-07-27T04:59:22.005219Z",
     "shell.execute_reply": "2024-07-27T04:59:22.004181Z"
    },
    "papermill": {
     "duration": 0.030593,
     "end_time": "2024-07-27T04:59:22.007550",
     "exception": false,
     "start_time": "2024-07-27T04:59:21.976957",
     "status": "completed"
    },
    "tags": []
   },
   "outputs": [
    {
     "data": {
      "text/plain": [
       "\"basically there's a family where a little boy (jake) thinks there's a zombie in his closet & his parents are fighting all the time.<br /><br />this movie is slower than a soap opera... and suddenly, jake decides to become rambo and kill the zombie.<br /><br />ok, first of all when you're going to make a film you must decide if its a thriller or a drama! as a drama the movie is watchable. parents are divorcing & arguing like in real life. and then we have jake with his closet which totally ruins all the film! i expected to see a boogeyman similar movie, and instead i watched a drama with some meaningless thriller spots.<br /><br />3 out of 10 just for the well playing parents & descent dialogs. as for the shots with jake: just ignore them.\""
      ]
     },
     "execution_count": 5,
     "metadata": {},
     "output_type": "execute_result"
    }
   ],
   "source": [
    "df['review'][3].lower()"
   ]
  },
  {
   "cell_type": "code",
   "execution_count": 6,
   "id": "0411f995",
   "metadata": {
    "execution": {
     "iopub.execute_input": "2024-07-27T04:59:22.041858Z",
     "iopub.status.busy": "2024-07-27T04:59:22.041436Z",
     "iopub.status.idle": "2024-07-27T04:59:22.204065Z",
     "shell.execute_reply": "2024-07-27T04:59:22.202885Z"
    },
    "papermill": {
     "duration": 0.183013,
     "end_time": "2024-07-27T04:59:22.206864",
     "exception": false,
     "start_time": "2024-07-27T04:59:22.023851",
     "status": "completed"
    },
    "tags": []
   },
   "outputs": [],
   "source": [
    "df['review']=df['review'].str.lower()"
   ]
  },
  {
   "cell_type": "code",
   "execution_count": 7,
   "id": "eb769d3e",
   "metadata": {
    "execution": {
     "iopub.execute_input": "2024-07-27T04:59:22.241467Z",
     "iopub.status.busy": "2024-07-27T04:59:22.241051Z",
     "iopub.status.idle": "2024-07-27T04:59:22.254815Z",
     "shell.execute_reply": "2024-07-27T04:59:22.253766Z"
    },
    "papermill": {
     "duration": 0.034189,
     "end_time": "2024-07-27T04:59:22.257480",
     "exception": false,
     "start_time": "2024-07-27T04:59:22.223291",
     "status": "completed"
    },
    "tags": []
   },
   "outputs": [
    {
     "data": {
      "text/html": [
       "<div>\n",
       "<style scoped>\n",
       "    .dataframe tbody tr th:only-of-type {\n",
       "        vertical-align: middle;\n",
       "    }\n",
       "\n",
       "    .dataframe tbody tr th {\n",
       "        vertical-align: top;\n",
       "    }\n",
       "\n",
       "    .dataframe thead th {\n",
       "        text-align: right;\n",
       "    }\n",
       "</style>\n",
       "<table border=\"1\" class=\"dataframe\">\n",
       "  <thead>\n",
       "    <tr style=\"text-align: right;\">\n",
       "      <th></th>\n",
       "      <th>review</th>\n",
       "      <th>sentiment</th>\n",
       "    </tr>\n",
       "  </thead>\n",
       "  <tbody>\n",
       "    <tr>\n",
       "      <th>0</th>\n",
       "      <td>one of the other reviewers has mentioned that ...</td>\n",
       "      <td>positive</td>\n",
       "    </tr>\n",
       "    <tr>\n",
       "      <th>1</th>\n",
       "      <td>a wonderful little production. &lt;br /&gt;&lt;br /&gt;the...</td>\n",
       "      <td>positive</td>\n",
       "    </tr>\n",
       "    <tr>\n",
       "      <th>2</th>\n",
       "      <td>i thought this was a wonderful way to spend ti...</td>\n",
       "      <td>positive</td>\n",
       "    </tr>\n",
       "    <tr>\n",
       "      <th>3</th>\n",
       "      <td>basically there's a family where a little boy ...</td>\n",
       "      <td>negative</td>\n",
       "    </tr>\n",
       "    <tr>\n",
       "      <th>4</th>\n",
       "      <td>petter mattei's \"love in the time of money\" is...</td>\n",
       "      <td>positive</td>\n",
       "    </tr>\n",
       "    <tr>\n",
       "      <th>...</th>\n",
       "      <td>...</td>\n",
       "      <td>...</td>\n",
       "    </tr>\n",
       "    <tr>\n",
       "      <th>49995</th>\n",
       "      <td>i thought this movie did a down right good job...</td>\n",
       "      <td>positive</td>\n",
       "    </tr>\n",
       "    <tr>\n",
       "      <th>49996</th>\n",
       "      <td>bad plot, bad dialogue, bad acting, idiotic di...</td>\n",
       "      <td>negative</td>\n",
       "    </tr>\n",
       "    <tr>\n",
       "      <th>49997</th>\n",
       "      <td>i am a catholic taught in parochial elementary...</td>\n",
       "      <td>negative</td>\n",
       "    </tr>\n",
       "    <tr>\n",
       "      <th>49998</th>\n",
       "      <td>i'm going to have to disagree with the previou...</td>\n",
       "      <td>negative</td>\n",
       "    </tr>\n",
       "    <tr>\n",
       "      <th>49999</th>\n",
       "      <td>no one expects the star trek movies to be high...</td>\n",
       "      <td>negative</td>\n",
       "    </tr>\n",
       "  </tbody>\n",
       "</table>\n",
       "<p>50000 rows × 2 columns</p>\n",
       "</div>"
      ],
      "text/plain": [
       "                                                  review sentiment\n",
       "0      one of the other reviewers has mentioned that ...  positive\n",
       "1      a wonderful little production. <br /><br />the...  positive\n",
       "2      i thought this was a wonderful way to spend ti...  positive\n",
       "3      basically there's a family where a little boy ...  negative\n",
       "4      petter mattei's \"love in the time of money\" is...  positive\n",
       "...                                                  ...       ...\n",
       "49995  i thought this movie did a down right good job...  positive\n",
       "49996  bad plot, bad dialogue, bad acting, idiotic di...  negative\n",
       "49997  i am a catholic taught in parochial elementary...  negative\n",
       "49998  i'm going to have to disagree with the previou...  negative\n",
       "49999  no one expects the star trek movies to be high...  negative\n",
       "\n",
       "[50000 rows x 2 columns]"
      ]
     },
     "execution_count": 7,
     "metadata": {},
     "output_type": "execute_result"
    }
   ],
   "source": [
    "df"
   ]
  },
  {
   "cell_type": "markdown",
   "id": "2193c545",
   "metadata": {
    "papermill": {
     "duration": 0.016072,
     "end_time": "2024-07-27T04:59:22.290181",
     "exception": false,
     "start_time": "2024-07-27T04:59:22.274109",
     "status": "completed"
    },
    "tags": []
   },
   "source": [
    "# Remove HTML Tags\n"
   ]
  },
  {
   "cell_type": "code",
   "execution_count": 8,
   "id": "79ce076d",
   "metadata": {
    "execution": {
     "iopub.execute_input": "2024-07-27T04:59:22.324576Z",
     "iopub.status.busy": "2024-07-27T04:59:22.324171Z",
     "iopub.status.idle": "2024-07-27T04:59:22.329669Z",
     "shell.execute_reply": "2024-07-27T04:59:22.328558Z"
    },
    "papermill": {
     "duration": 0.025482,
     "end_time": "2024-07-27T04:59:22.332017",
     "exception": false,
     "start_time": "2024-07-27T04:59:22.306535",
     "status": "completed"
    },
    "tags": []
   },
   "outputs": [],
   "source": [
    "import re\n",
    "def remove_html_tags(text):\n",
    "    pattern = re.compile('<.*?>')\n",
    "    return pattern.sub(r'',text)\n",
    "    "
   ]
  },
  {
   "cell_type": "code",
   "execution_count": 9,
   "id": "b708803e",
   "metadata": {
    "execution": {
     "iopub.execute_input": "2024-07-27T04:59:22.366546Z",
     "iopub.status.busy": "2024-07-27T04:59:22.366136Z",
     "iopub.status.idle": "2024-07-27T04:59:22.371748Z",
     "shell.execute_reply": "2024-07-27T04:59:22.370672Z"
    },
    "papermill": {
     "duration": 0.025702,
     "end_time": "2024-07-27T04:59:22.374074",
     "exception": false,
     "start_time": "2024-07-27T04:59:22.348372",
     "status": "completed"
    },
    "tags": []
   },
   "outputs": [],
   "source": [
    "text = \"basically there's a family where a little boy (jake) thinks there's a zombie in his closet & his parents are fighting all the time.<br /><br />this movie is slower than a soap opera... and suddenly, jake decides to become rambo and kill the zombie.<br /><br />ok, first of all when you're going to make a film you must decide if its a thriller or a drama! as a drama the movie is watchable. parents are divorcing & arguing like in real life. and then we have jake with his closet which totally ruins all the film! i expected to see a boogeyman similar movie, and instead i watched a drama with some meaningless thriller spots.<br /><br />3 out of 10 just for the well playing parents & descent dialogs. as for the shots with jake: just ignore them.\""
   ]
  },
  {
   "cell_type": "code",
   "execution_count": 10,
   "id": "d2eddc18",
   "metadata": {
    "execution": {
     "iopub.execute_input": "2024-07-27T04:59:22.409277Z",
     "iopub.status.busy": "2024-07-27T04:59:22.408292Z",
     "iopub.status.idle": "2024-07-27T04:59:22.415273Z",
     "shell.execute_reply": "2024-07-27T04:59:22.414212Z"
    },
    "papermill": {
     "duration": 0.027132,
     "end_time": "2024-07-27T04:59:22.417798",
     "exception": false,
     "start_time": "2024-07-27T04:59:22.390666",
     "status": "completed"
    },
    "tags": []
   },
   "outputs": [
    {
     "data": {
      "text/plain": [
       "\"basically there's a family where a little boy (jake) thinks there's a zombie in his closet & his parents are fighting all the time.this movie is slower than a soap opera... and suddenly, jake decides to become rambo and kill the zombie.ok, first of all when you're going to make a film you must decide if its a thriller or a drama! as a drama the movie is watchable. parents are divorcing & arguing like in real life. and then we have jake with his closet which totally ruins all the film! i expected to see a boogeyman similar movie, and instead i watched a drama with some meaningless thriller spots.3 out of 10 just for the well playing parents & descent dialogs. as for the shots with jake: just ignore them.\""
      ]
     },
     "execution_count": 10,
     "metadata": {},
     "output_type": "execute_result"
    }
   ],
   "source": [
    "remove_html_tags(text)"
   ]
  },
  {
   "cell_type": "code",
   "execution_count": 11,
   "id": "4828ca4e",
   "metadata": {
    "execution": {
     "iopub.execute_input": "2024-07-27T04:59:22.453096Z",
     "iopub.status.busy": "2024-07-27T04:59:22.452206Z",
     "iopub.status.idle": "2024-07-27T04:59:22.645469Z",
     "shell.execute_reply": "2024-07-27T04:59:22.644411Z"
    },
    "papermill": {
     "duration": 0.213507,
     "end_time": "2024-07-27T04:59:22.647923",
     "exception": false,
     "start_time": "2024-07-27T04:59:22.434416",
     "status": "completed"
    },
    "tags": []
   },
   "outputs": [
    {
     "data": {
      "text/plain": [
       "0        one of the other reviewers has mentioned that ...\n",
       "1        a wonderful little production. the filming tec...\n",
       "2        i thought this was a wonderful way to spend ti...\n",
       "3        basically there's a family where a little boy ...\n",
       "4        petter mattei's \"love in the time of money\" is...\n",
       "                               ...                        \n",
       "49995    i thought this movie did a down right good job...\n",
       "49996    bad plot, bad dialogue, bad acting, idiotic di...\n",
       "49997    i am a catholic taught in parochial elementary...\n",
       "49998    i'm going to have to disagree with the previou...\n",
       "49999    no one expects the star trek movies to be high...\n",
       "Name: review, Length: 50000, dtype: object"
      ]
     },
     "execution_count": 11,
     "metadata": {},
     "output_type": "execute_result"
    }
   ],
   "source": [
    "df['review'].apply(remove_html_tags)"
   ]
  },
  {
   "cell_type": "markdown",
   "id": "351a884e",
   "metadata": {
    "papermill": {
     "duration": 0.016719,
     "end_time": "2024-07-27T04:59:22.682671",
     "exception": false,
     "start_time": "2024-07-27T04:59:22.665952",
     "status": "completed"
    },
    "tags": []
   },
   "source": [
    "# Remove URLs\n"
   ]
  },
  {
   "cell_type": "code",
   "execution_count": 12,
   "id": "3651d2ff",
   "metadata": {
    "execution": {
     "iopub.execute_input": "2024-07-27T04:59:22.718672Z",
     "iopub.status.busy": "2024-07-27T04:59:22.717476Z",
     "iopub.status.idle": "2024-07-27T04:59:22.723135Z",
     "shell.execute_reply": "2024-07-27T04:59:22.722062Z"
    },
    "papermill": {
     "duration": 0.026253,
     "end_time": "2024-07-27T04:59:22.725667",
     "exception": false,
     "start_time": "2024-07-27T04:59:22.699414",
     "status": "completed"
    },
    "tags": []
   },
   "outputs": [],
   "source": [
    "def remove_url(text):\n",
    "    pattern = re.compile(r'https?://\\$+|www\\.\\$+')\n",
    "    return pattern.sub(r'',text)"
   ]
  },
  {
   "cell_type": "code",
   "execution_count": 13,
   "id": "b6e43681",
   "metadata": {
    "execution": {
     "iopub.execute_input": "2024-07-27T04:59:22.761404Z",
     "iopub.status.busy": "2024-07-27T04:59:22.760608Z",
     "iopub.status.idle": "2024-07-27T04:59:22.766539Z",
     "shell.execute_reply": "2024-07-27T04:59:22.765455Z"
    },
    "papermill": {
     "duration": 0.026543,
     "end_time": "2024-07-27T04:59:22.768960",
     "exception": false,
     "start_time": "2024-07-27T04:59:22.742417",
     "status": "completed"
    },
    "tags": []
   },
   "outputs": [],
   "source": [
    "text1 = 'For NYKA fashion go through https://www.nykaa.com/?utm_content=ads&utm_source=GooglePaid&utm_medium=search&utm_campaign=Search_Nykaa_NCA&hlp=hlpa&gad_source=1&gclid=CjwKCAjwzIK1BhAuEiwAHQmU3lTPusFUDBNEROccLZ3ri2i73G8anmQrTtrhk3kRerJCx2xPkF0mnRoCKMUQAvD_BwE '\n",
    "\n",
    "text2 = 'Google search here www.google.com'\n",
    "\n",
    "text3 = \"\"\"The link of this question: https://stackoverflow.com/questions/6038061/regular-expression-to-find-urls-within-a-string\n",
    "Also there are some urls: www.google.com, facebook.com, http://test.com/method?param=wasd, http://test.com/method?param=wasd&params2=kjhdkjshd\n",
    "The code below catches all urls in text and returns urls in list.\"\"\""
   ]
  },
  {
   "cell_type": "code",
   "execution_count": 14,
   "id": "48186f84",
   "metadata": {
    "execution": {
     "iopub.execute_input": "2024-07-27T04:59:22.804222Z",
     "iopub.status.busy": "2024-07-27T04:59:22.803817Z",
     "iopub.status.idle": "2024-07-27T04:59:22.810986Z",
     "shell.execute_reply": "2024-07-27T04:59:22.809901Z"
    },
    "papermill": {
     "duration": 0.027816,
     "end_time": "2024-07-27T04:59:22.813480",
     "exception": false,
     "start_time": "2024-07-27T04:59:22.785664",
     "status": "completed"
    },
    "tags": []
   },
   "outputs": [
    {
     "data": {
      "text/plain": [
       "'Google search here www.google.com'"
      ]
     },
     "execution_count": 14,
     "metadata": {},
     "output_type": "execute_result"
    }
   ],
   "source": [
    "remove_url(text2)"
   ]
  },
  {
   "cell_type": "markdown",
   "id": "a6871662",
   "metadata": {
    "papermill": {
     "duration": 0.016693,
     "end_time": "2024-07-27T04:59:22.847142",
     "exception": false,
     "start_time": "2024-07-27T04:59:22.830449",
     "status": "completed"
    },
    "tags": []
   },
   "source": [
    "# Remove punctuations - Tokenization\n"
   ]
  },
  {
   "cell_type": "code",
   "execution_count": 15,
   "id": "a80728e6",
   "metadata": {
    "execution": {
     "iopub.execute_input": "2024-07-27T04:59:22.882964Z",
     "iopub.status.busy": "2024-07-27T04:59:22.882369Z",
     "iopub.status.idle": "2024-07-27T04:59:22.889873Z",
     "shell.execute_reply": "2024-07-27T04:59:22.888704Z"
    },
    "papermill": {
     "duration": 0.028239,
     "end_time": "2024-07-27T04:59:22.892352",
     "exception": false,
     "start_time": "2024-07-27T04:59:22.864113",
     "status": "completed"
    },
    "tags": []
   },
   "outputs": [
    {
     "data": {
      "text/plain": [
       "'!\"#$%&\\'()*+,-./:;<=>?@[\\\\]^_`{|}~'"
      ]
     },
     "execution_count": 15,
     "metadata": {},
     "output_type": "execute_result"
    }
   ],
   "source": [
    "import string,time\n",
    "string.punctuation"
   ]
  },
  {
   "cell_type": "code",
   "execution_count": 16,
   "id": "fcfcfc9a",
   "metadata": {
    "execution": {
     "iopub.execute_input": "2024-07-27T04:59:22.928529Z",
     "iopub.status.busy": "2024-07-27T04:59:22.927530Z",
     "iopub.status.idle": "2024-07-27T04:59:22.932831Z",
     "shell.execute_reply": "2024-07-27T04:59:22.931497Z"
    },
    "papermill": {
     "duration": 0.025876,
     "end_time": "2024-07-27T04:59:22.935109",
     "exception": false,
     "start_time": "2024-07-27T04:59:22.909233",
     "status": "completed"
    },
    "tags": []
   },
   "outputs": [],
   "source": [
    "exclude = string.punctuation"
   ]
  },
  {
   "cell_type": "code",
   "execution_count": 17,
   "id": "09b657a0",
   "metadata": {
    "execution": {
     "iopub.execute_input": "2024-07-27T04:59:22.971089Z",
     "iopub.status.busy": "2024-07-27T04:59:22.970259Z",
     "iopub.status.idle": "2024-07-27T04:59:22.975832Z",
     "shell.execute_reply": "2024-07-27T04:59:22.974716Z"
    },
    "papermill": {
     "duration": 0.02631,
     "end_time": "2024-07-27T04:59:22.978342",
     "exception": false,
     "start_time": "2024-07-27T04:59:22.952032",
     "status": "completed"
    },
    "tags": []
   },
   "outputs": [],
   "source": [
    "def remove_punctuation(text):\n",
    "    for char in exclude:\n",
    "        text = text.replace(char,'')\n",
    "    return text"
   ]
  },
  {
   "cell_type": "code",
   "execution_count": 18,
   "id": "4f93f2ca",
   "metadata": {
    "execution": {
     "iopub.execute_input": "2024-07-27T04:59:23.014395Z",
     "iopub.status.busy": "2024-07-27T04:59:23.014000Z",
     "iopub.status.idle": "2024-07-27T04:59:23.019110Z",
     "shell.execute_reply": "2024-07-27T04:59:23.017981Z"
    },
    "papermill": {
     "duration": 0.025939,
     "end_time": "2024-07-27T04:59:23.021441",
     "exception": false,
     "start_time": "2024-07-27T04:59:22.995502",
     "status": "completed"
    },
    "tags": []
   },
   "outputs": [],
   "source": [
    "text = 'String.With.Punctuation,myfamily) to be * home work// she go through#@and work hard.'"
   ]
  },
  {
   "cell_type": "code",
   "execution_count": 19,
   "id": "3fb22da7",
   "metadata": {
    "execution": {
     "iopub.execute_input": "2024-07-27T04:59:23.057340Z",
     "iopub.status.busy": "2024-07-27T04:59:23.056952Z",
     "iopub.status.idle": "2024-07-27T04:59:23.064286Z",
     "shell.execute_reply": "2024-07-27T04:59:23.063114Z"
    },
    "papermill": {
     "duration": 0.028118,
     "end_time": "2024-07-27T04:59:23.066784",
     "exception": false,
     "start_time": "2024-07-27T04:59:23.038666",
     "status": "completed"
    },
    "tags": []
   },
   "outputs": [
    {
     "data": {
      "text/plain": [
       "'StringWithPunctuationmyfamily to be  home work she go throughand work hard'"
      ]
     },
     "execution_count": 19,
     "metadata": {},
     "output_type": "execute_result"
    }
   ],
   "source": [
    "remove_punctuation(text)"
   ]
  },
  {
   "cell_type": "code",
   "execution_count": 20,
   "id": "6910f287",
   "metadata": {
    "execution": {
     "iopub.execute_input": "2024-07-27T04:59:23.103288Z",
     "iopub.status.busy": "2024-07-27T04:59:23.102470Z",
     "iopub.status.idle": "2024-07-27T04:59:23.109660Z",
     "shell.execute_reply": "2024-07-27T04:59:23.108519Z"
    },
    "papermill": {
     "duration": 0.028202,
     "end_time": "2024-07-27T04:59:23.112223",
     "exception": false,
     "start_time": "2024-07-27T04:59:23.084021",
     "status": "completed"
    },
    "tags": []
   },
   "outputs": [
    {
     "name": "stdout",
     "output_type": "stream",
     "text": [
      "1722056363.1053228\n",
      "StringWithPunctuationmyfamily to be  home work she go throughand work hard\n",
      "0.00019407272338867188\n",
      "9.703636169433594\n"
     ]
    }
   ],
   "source": [
    "import time\n",
    "start = time.time()\n",
    "print(start)\n",
    "print(remove_punctuation(text))\n",
    "time1 = time.time()-start\n",
    "print(time1)\n",
    "print(time1*50000)"
   ]
  },
  {
   "cell_type": "code",
   "execution_count": 21,
   "id": "bc7c3001",
   "metadata": {
    "execution": {
     "iopub.execute_input": "2024-07-27T04:59:23.148457Z",
     "iopub.status.busy": "2024-07-27T04:59:23.148048Z",
     "iopub.status.idle": "2024-07-27T04:59:23.153357Z",
     "shell.execute_reply": "2024-07-27T04:59:23.152181Z"
    },
    "papermill": {
     "duration": 0.026453,
     "end_time": "2024-07-27T04:59:23.155875",
     "exception": false,
     "start_time": "2024-07-27T04:59:23.129422",
     "status": "completed"
    },
    "tags": []
   },
   "outputs": [],
   "source": [
    "def remove_punct(text):\n",
    "    return text.translate(str.maketrans('','',exclude))"
   ]
  },
  {
   "cell_type": "markdown",
   "id": "e1067184",
   "metadata": {
    "papermill": {
     "duration": 0.016938,
     "end_time": "2024-07-27T04:59:23.190042",
     "exception": false,
     "start_time": "2024-07-27T04:59:23.173104",
     "status": "completed"
    },
    "tags": []
   },
   "source": [
    "# Sentiment Analysis\n"
   ]
  },
  {
   "cell_type": "code",
   "execution_count": 22,
   "id": "5fcdccdb",
   "metadata": {
    "execution": {
     "iopub.execute_input": "2024-07-27T04:59:23.226436Z",
     "iopub.status.busy": "2024-07-27T04:59:23.226044Z",
     "iopub.status.idle": "2024-07-27T04:59:23.329006Z",
     "shell.execute_reply": "2024-07-27T04:59:23.327797Z"
    },
    "papermill": {
     "duration": 0.124494,
     "end_time": "2024-07-27T04:59:23.331893",
     "exception": false,
     "start_time": "2024-07-27T04:59:23.207399",
     "status": "completed"
    },
    "tags": []
   },
   "outputs": [],
   "source": [
    "df = pd.read_csv('/kaggle/input/d/arkhoshghalb/twitter-sentiment-analysis-hatred-speech/train.csv')"
   ]
  },
  {
   "cell_type": "code",
   "execution_count": 23,
   "id": "c2f2f9f9",
   "metadata": {
    "execution": {
     "iopub.execute_input": "2024-07-27T04:59:23.368337Z",
     "iopub.status.busy": "2024-07-27T04:59:23.367934Z",
     "iopub.status.idle": "2024-07-27T04:59:23.383321Z",
     "shell.execute_reply": "2024-07-27T04:59:23.382209Z"
    },
    "papermill": {
     "duration": 0.0365,
     "end_time": "2024-07-27T04:59:23.385817",
     "exception": false,
     "start_time": "2024-07-27T04:59:23.349317",
     "status": "completed"
    },
    "tags": []
   },
   "outputs": [
    {
     "data": {
      "text/html": [
       "<div>\n",
       "<style scoped>\n",
       "    .dataframe tbody tr th:only-of-type {\n",
       "        vertical-align: middle;\n",
       "    }\n",
       "\n",
       "    .dataframe tbody tr th {\n",
       "        vertical-align: top;\n",
       "    }\n",
       "\n",
       "    .dataframe thead th {\n",
       "        text-align: right;\n",
       "    }\n",
       "</style>\n",
       "<table border=\"1\" class=\"dataframe\">\n",
       "  <thead>\n",
       "    <tr style=\"text-align: right;\">\n",
       "      <th></th>\n",
       "      <th>id</th>\n",
       "      <th>label</th>\n",
       "      <th>tweet</th>\n",
       "    </tr>\n",
       "  </thead>\n",
       "  <tbody>\n",
       "    <tr>\n",
       "      <th>29524</th>\n",
       "      <td>29525</td>\n",
       "      <td>0</td>\n",
       "      <td>@user lots of #sponsors on the table @user @u...</td>\n",
       "    </tr>\n",
       "    <tr>\n",
       "      <th>8286</th>\n",
       "      <td>8287</td>\n",
       "      <td>0</td>\n",
       "      <td>nightcap #sandiego #sandiegoliving #darkandsto...</td>\n",
       "    </tr>\n",
       "    <tr>\n",
       "      <th>8357</th>\n",
       "      <td>8358</td>\n",
       "      <td>0</td>\n",
       "      <td>sunday everyone - have a good day ðð #...</td>\n",
       "    </tr>\n",
       "    <tr>\n",
       "      <th>6316</th>\n",
       "      <td>6317</td>\n",
       "      <td>0</td>\n",
       "      <td>its raining offer at #pantaloons #shop and be</td>\n",
       "    </tr>\n",
       "    <tr>\n",
       "      <th>7335</th>\n",
       "      <td>7336</td>\n",
       "      <td>0</td>\n",
       "      <td>here you have it everyone. science :) make mor...</td>\n",
       "    </tr>\n",
       "  </tbody>\n",
       "</table>\n",
       "</div>"
      ],
      "text/plain": [
       "          id  label                                              tweet\n",
       "29524  29525      0   @user lots of #sponsors on the table @user @u...\n",
       "8286    8287      0  nightcap #sandiego #sandiegoliving #darkandsto...\n",
       "8357    8358      0    sunday everyone - have a good day ðð #...\n",
       "6316    6317      0   its raining offer at #pantaloons #shop and be   \n",
       "7335    7336      0  here you have it everyone. science :) make mor..."
      ]
     },
     "execution_count": 23,
     "metadata": {},
     "output_type": "execute_result"
    }
   ],
   "source": [
    "df.sample(5)"
   ]
  },
  {
   "cell_type": "raw",
   "id": "c35fd995",
   "metadata": {
    "papermill": {
     "duration": 0.017319,
     "end_time": "2024-07-27T04:59:23.421299",
     "exception": false,
     "start_time": "2024-07-27T04:59:23.403980",
     "status": "completed"
    },
    "tags": []
   },
   "source": [
    "def remove_punct(text):\n",
    "    return text.translate(str.maketrans('','',exclude))"
   ]
  },
  {
   "cell_type": "code",
   "execution_count": 24,
   "id": "c87d43bc",
   "metadata": {
    "execution": {
     "iopub.execute_input": "2024-07-27T04:59:23.458449Z",
     "iopub.status.busy": "2024-07-27T04:59:23.458023Z",
     "iopub.status.idle": "2024-07-27T04:59:23.693203Z",
     "shell.execute_reply": "2024-07-27T04:59:23.692053Z"
    },
    "papermill": {
     "duration": 0.256986,
     "end_time": "2024-07-27T04:59:23.695899",
     "exception": false,
     "start_time": "2024-07-27T04:59:23.438913",
     "status": "completed"
    },
    "tags": []
   },
   "outputs": [],
   "source": [
    "df['tweet']=df['tweet'].apply(remove_punct)"
   ]
  },
  {
   "cell_type": "markdown",
   "id": "823cdb9d",
   "metadata": {
    "papermill": {
     "duration": 0.018203,
     "end_time": "2024-07-27T04:59:23.731748",
     "exception": false,
     "start_time": "2024-07-27T04:59:23.713545",
     "status": "completed"
    },
    "tags": []
   },
   "source": [
    "# Chat word treatment\n"
   ]
  },
  {
   "cell_type": "code",
   "execution_count": 25,
   "id": "558a4596",
   "metadata": {
    "execution": {
     "iopub.execute_input": "2024-07-27T04:59:23.768212Z",
     "iopub.status.busy": "2024-07-27T04:59:23.767799Z",
     "iopub.status.idle": "2024-07-27T04:59:23.781363Z",
     "shell.execute_reply": "2024-07-27T04:59:23.780224Z"
    },
    "papermill": {
     "duration": 0.03498,
     "end_time": "2024-07-27T04:59:23.783989",
     "exception": false,
     "start_time": "2024-07-27T04:59:23.749009",
     "status": "completed"
    },
    "tags": []
   },
   "outputs": [],
   "source": [
    "chat_word = {\"AFAIK\":\"As Far As I Know\",\n",
    "\"AFK\":\"Away From Keyboard\",\n",
    "\"ASAP\":\"As Soon As Possible\",\n",
    "\"ATK\":\"At The Keyboard\",\n",
    "\"ATM\":\"At The Moment\",\n",
    "\"A3\":\"Anytime, Anywhere, Anyplace\",\n",
    "\"BAK\":\"Back At Keyboard\",\n",
    "\"BBL\":\"Be Back Later\",\n",
    "\"BBS\":\"Be Back Soon\",\n",
    "\"FYI\" : \"For Your Information\",\n",
    "            \"BFN\": \"Bye For Now\",\n",
    "    \"B4N\": \"Bye For Now\",\n",
    "    \"BRB\": \"Be Right Back\",\n",
    "    \"BRT\": \"Be Right There\",\n",
    "    \"BTW\": \"By The Way\",\n",
    "    \"B4\": \"Before\",\n",
    "    \"B4N\": \"Bye For Now\",\n",
    "    \"CU\": \"See You\",\n",
    "    \"CUL8R\": \"See You Later\",\n",
    "    \"CYA\": \"See You\",\n",
    "    \"FAQ\": \"Frequently Asked Questions\",\n",
    "    \"FC\": \"Fingers Crossed\",\n",
    "    \"FWIW\": \"For What It's Worth\",\n",
    "    \"FYI\": \"For Your Information\",\n",
    "    \"GAL\": \"Get A Life\",\n",
    "    \"GG\": \"Good Game\",\n",
    "    \"GN\": \"Good Night\",\n",
    "    \"GMTA\": \"Great Minds Think Alike\",\n",
    "    \"GR8\": \"Great!\",\n",
    "    \"G9\": \"Genius\",\n",
    "    \"IC\": \"I See\",\n",
    "    \"ICQ\": \"I Seek you (also a chat program)\",\n",
    "    \"ILU\": \"I Love You\",\n",
    "    \"IMHO\": \"In My Honest/Humble Opinion\",\n",
    "    \"IMO\": \"In My Opinion\",\n",
    "    \"IOW\": \"In Other Words\",\n",
    "    \"IRL\": \"In Real Life\",\n",
    "    \"KISS\": \"Keep It Simple, Stupid\",\n",
    "    \"LDR\": \"Long Distance Relationship\",\n",
    "    \"LMAO\": \"Laugh My A.. Off\",\n",
    "    \"LOL\": \"Laughing Out Loud\",\n",
    "    \"LTNS\": \"Long Time No See\",\n",
    "    \"L8R\": \"Later\",\n",
    "    \"MTE\": \"My Thoughts Exactly\",\n",
    "    \"M8\": \"Mate\",\n",
    "    \"NRN\": \"No Reply Necessary\",\n",
    "    \"OIC\": \"Oh I See\",\n",
    "    \"PITA\": \"Pain In The A..\",\n",
    "    \"PRT\": \"Party\",\n",
    "    \"PRW\": \"Parents Are Watching\",\n",
    "    \"QPSA?\": \"Que Pasa?\",\n",
    "    \"ROFL\": \"Rolling On The Floor Laughing\",\n",
    "    \"ROFLOL\": \"Rolling On The Floor Laughing Out Loud\",\n",
    "    \"ROTFLMAO\": \"Rolling On The Floor Laughing My A.. Off\",\n",
    "    \"SK8\": \"Skate\",\n",
    "    \"STATS\": \"Your sex and age\",\n",
    "    \"ASL\": \"Age, Sex, Location\",\n",
    "    \"THX\": \"Thank You\",\n",
    "    \"TTFN\": \"Ta-Ta For Now!\",\n",
    "    \"TTYL\": \"Talk To You Later\",\n",
    "    \"U\": \"You\",\n",
    "    \"U2\": \"You Too\",\n",
    "    \"U4E\": \"Yours For Ever\",\n",
    "    \"WB\": \"Welcome Back\",\n",
    "    \"WTF\": \"What The F...\",\n",
    "    \"WTG\": \"Way To Go!\",\n",
    "    \"WUF\": \"Where Are You From?\",\n",
    "    \"W8\": \"Wait...\",\n",
    "    \"7K\": \"Sick:-D Laugher\",\n",
    "    \"TFW\": \"That feeling when. TFW internet slang often goes in a caption to an image.\",\n",
    "    \"MFW\": \"My face when\",\n",
    "    \"MRW\": \"My reaction when\",\n",
    "    \"IFYP\": \"I feel your pain\",\n",
    "    \"LOL\": \"Laughing out loud\",\n",
    "    \"TNTL\": \"Trying not to laugh\",\n",
    "    \"JK\": \"Just kidding\",\n",
    "    \"IDC\": \"I don’t care\",\n",
    "    \"ILY\": \"I love you\",\n",
    "    \"IMU\": \"I miss you\",\n",
    "    \"ADIH\": \"Another day in hell\",\n",
    "    \"IDC\": \"I don’t care\",\n",
    "    \"ZZZ\": \"Sleeping, bored, tired\",\n",
    "    \"WYWH\": \"Wish you were here\",\n",
    "    \"TIME\": \"Tears in my eyes\",\n",
    "    \"BAE\": \"Before anyone else\",\n",
    "    \"FIMH\": \"Forever in my heart\",\n",
    "    \"BSAAW\": \"Big smile and a wink\",\n",
    "    \"BWL\": \"Bursting with laughter\",\n",
    "    \"LMAO\": \"Laughing my a** off\",\n",
    "    \"BFF\": \"Best friends forever\",\n",
    "    \"CSL\": \"Can’t stop laughing\"}"
   ]
  },
  {
   "cell_type": "code",
   "execution_count": 26,
   "id": "b2b3dd2f",
   "metadata": {
    "execution": {
     "iopub.execute_input": "2024-07-27T04:59:23.821718Z",
     "iopub.status.busy": "2024-07-27T04:59:23.820608Z",
     "iopub.status.idle": "2024-07-27T04:59:23.826828Z",
     "shell.execute_reply": "2024-07-27T04:59:23.825574Z"
    },
    "papermill": {
     "duration": 0.027852,
     "end_time": "2024-07-27T04:59:23.829526",
     "exception": false,
     "start_time": "2024-07-27T04:59:23.801674",
     "status": "completed"
    },
    "tags": []
   },
   "outputs": [
    {
     "name": "stdout",
     "output_type": "stream",
     "text": [
      "{'AFAIK': 'As Far As I Know', 'AFK': 'Away From Keyboard', 'ASAP': 'As Soon As Possible', 'ATK': 'At The Keyboard', 'ATM': 'At The Moment', 'A3': 'Anytime, Anywhere, Anyplace', 'BAK': 'Back At Keyboard', 'BBL': 'Be Back Later', 'BBS': 'Be Back Soon', 'FYI': 'For Your Information', 'BFN': 'Bye For Now', 'B4N': 'Bye For Now', 'BRB': 'Be Right Back', 'BRT': 'Be Right There', 'BTW': 'By The Way', 'B4': 'Before', 'CU': 'See You', 'CUL8R': 'See You Later', 'CYA': 'See You', 'FAQ': 'Frequently Asked Questions', 'FC': 'Fingers Crossed', 'FWIW': \"For What It's Worth\", 'GAL': 'Get A Life', 'GG': 'Good Game', 'GN': 'Good Night', 'GMTA': 'Great Minds Think Alike', 'GR8': 'Great!', 'G9': 'Genius', 'IC': 'I See', 'ICQ': 'I Seek you (also a chat program)', 'ILU': 'I Love You', 'IMHO': 'In My Honest/Humble Opinion', 'IMO': 'In My Opinion', 'IOW': 'In Other Words', 'IRL': 'In Real Life', 'KISS': 'Keep It Simple, Stupid', 'LDR': 'Long Distance Relationship', 'LMAO': 'Laughing my a** off', 'LOL': 'Laughing out loud', 'LTNS': 'Long Time No See', 'L8R': 'Later', 'MTE': 'My Thoughts Exactly', 'M8': 'Mate', 'NRN': 'No Reply Necessary', 'OIC': 'Oh I See', 'PITA': 'Pain In The A..', 'PRT': 'Party', 'PRW': 'Parents Are Watching', 'QPSA?': 'Que Pasa?', 'ROFL': 'Rolling On The Floor Laughing', 'ROFLOL': 'Rolling On The Floor Laughing Out Loud', 'ROTFLMAO': 'Rolling On The Floor Laughing My A.. Off', 'SK8': 'Skate', 'STATS': 'Your sex and age', 'ASL': 'Age, Sex, Location', 'THX': 'Thank You', 'TTFN': 'Ta-Ta For Now!', 'TTYL': 'Talk To You Later', 'U': 'You', 'U2': 'You Too', 'U4E': 'Yours For Ever', 'WB': 'Welcome Back', 'WTF': 'What The F...', 'WTG': 'Way To Go!', 'WUF': 'Where Are You From?', 'W8': 'Wait...', '7K': 'Sick:-D Laugher', 'TFW': 'That feeling when. TFW internet slang often goes in a caption to an image.', 'MFW': 'My face when', 'MRW': 'My reaction when', 'IFYP': 'I feel your pain', 'TNTL': 'Trying not to laugh', 'JK': 'Just kidding', 'IDC': 'I don’t care', 'ILY': 'I love you', 'IMU': 'I miss you', 'ADIH': 'Another day in hell', 'ZZZ': 'Sleeping, bored, tired', 'WYWH': 'Wish you were here', 'TIME': 'Tears in my eyes', 'BAE': 'Before anyone else', 'FIMH': 'Forever in my heart', 'BSAAW': 'Big smile and a wink', 'BWL': 'Bursting with laughter', 'BFF': 'Best friends forever', 'CSL': 'Can’t stop laughing'}\n"
     ]
    }
   ],
   "source": [
    "print(chat_word)"
   ]
  },
  {
   "cell_type": "code",
   "execution_count": 27,
   "id": "69cfe41a",
   "metadata": {
    "execution": {
     "iopub.execute_input": "2024-07-27T04:59:23.867586Z",
     "iopub.status.busy": "2024-07-27T04:59:23.866559Z",
     "iopub.status.idle": "2024-07-27T04:59:23.873247Z",
     "shell.execute_reply": "2024-07-27T04:59:23.872025Z"
    },
    "papermill": {
     "duration": 0.028175,
     "end_time": "2024-07-27T04:59:23.875730",
     "exception": false,
     "start_time": "2024-07-27T04:59:23.847555",
     "status": "completed"
    },
    "tags": []
   },
   "outputs": [],
   "source": [
    "def chat_conversion(text):\n",
    "    new_text=[]\n",
    "    for w in text.split():\n",
    "        if w.upper() in chat_word:\n",
    "            new_text.append(chat_word[w.upper()])\n",
    "        else:\n",
    "            new_text.append(w)\n",
    "    return \" \".join(new_text)"
   ]
  },
  {
   "cell_type": "code",
   "execution_count": 28,
   "id": "42f703fb",
   "metadata": {
    "execution": {
     "iopub.execute_input": "2024-07-27T04:59:23.912608Z",
     "iopub.status.busy": "2024-07-27T04:59:23.912195Z",
     "iopub.status.idle": "2024-07-27T04:59:23.919208Z",
     "shell.execute_reply": "2024-07-27T04:59:23.917990Z"
    },
    "papermill": {
     "duration": 0.028275,
     "end_time": "2024-07-27T04:59:23.921587",
     "exception": false,
     "start_time": "2024-07-27T04:59:23.893312",
     "status": "completed"
    },
    "tags": []
   },
   "outputs": [
    {
     "data": {
      "text/plain": [
       "'I will complete my work As Soon As Possible .'"
      ]
     },
     "execution_count": 28,
     "metadata": {},
     "output_type": "execute_result"
    }
   ],
   "source": [
    "chat_conversion(\" I will complete my work ASAP .\")"
   ]
  },
  {
   "cell_type": "code",
   "execution_count": 29,
   "id": "d7633375",
   "metadata": {
    "execution": {
     "iopub.execute_input": "2024-07-27T04:59:23.958849Z",
     "iopub.status.busy": "2024-07-27T04:59:23.958422Z",
     "iopub.status.idle": "2024-07-27T04:59:23.965058Z",
     "shell.execute_reply": "2024-07-27T04:59:23.963967Z"
    },
    "papermill": {
     "duration": 0.028088,
     "end_time": "2024-07-27T04:59:23.967411",
     "exception": false,
     "start_time": "2024-07-27T04:59:23.939323",
     "status": "completed"
    },
    "tags": []
   },
   "outputs": [
    {
     "data": {
      "text/plain": [
       "'For Your Information New Delhi is the captial of India'"
      ]
     },
     "execution_count": 29,
     "metadata": {},
     "output_type": "execute_result"
    }
   ],
   "source": [
    "chat_conversion(\" FYI New Delhi is the captial of India\")"
   ]
  },
  {
   "cell_type": "markdown",
   "id": "795be35d",
   "metadata": {
    "papermill": {
     "duration": 0.017442,
     "end_time": "2024-07-27T04:59:24.002564",
     "exception": false,
     "start_time": "2024-07-27T04:59:23.985122",
     "status": "completed"
    },
    "tags": []
   },
   "source": [
    "# Spelling Correction"
   ]
  },
  {
   "cell_type": "code",
   "execution_count": 30,
   "id": "4271c884",
   "metadata": {
    "execution": {
     "iopub.execute_input": "2024-07-27T04:59:24.040138Z",
     "iopub.status.busy": "2024-07-27T04:59:24.039457Z",
     "iopub.status.idle": "2024-07-27T04:59:24.090216Z",
     "shell.execute_reply": "2024-07-27T04:59:24.089092Z"
    },
    "papermill": {
     "duration": 0.073007,
     "end_time": "2024-07-27T04:59:24.093339",
     "exception": false,
     "start_time": "2024-07-27T04:59:24.020332",
     "status": "completed"
    },
    "tags": []
   },
   "outputs": [],
   "source": [
    "from textblob import TextBlob"
   ]
  },
  {
   "cell_type": "code",
   "execution_count": 31,
   "id": "df94ab4f",
   "metadata": {
    "execution": {
     "iopub.execute_input": "2024-07-27T04:59:24.130721Z",
     "iopub.status.busy": "2024-07-27T04:59:24.130311Z",
     "iopub.status.idle": "2024-07-27T04:59:24.827657Z",
     "shell.execute_reply": "2024-07-27T04:59:24.826349Z"
    },
    "papermill": {
     "duration": 0.718846,
     "end_time": "2024-07-27T04:59:24.830121",
     "exception": false,
     "start_time": "2024-07-27T04:59:24.111275",
     "status": "completed"
    },
    "tags": []
   },
   "outputs": [
    {
     "data": {
      "text/plain": [
       "'Certain condition during several generation are modified in thee same manner.'"
      ]
     },
     "execution_count": 31,
     "metadata": {},
     "output_type": "execute_result"
    }
   ],
   "source": [
    "incorrect_text = 'Ceertain conditon dring severel genrasion are modifyied in thee same mannerr.'\n",
    "textBlb = TextBlob(incorrect_text)\n",
    "textBlb.correct().string"
   ]
  },
  {
   "cell_type": "markdown",
   "id": "690aaa82",
   "metadata": {
    "papermill": {
     "duration": 0.017435,
     "end_time": "2024-07-27T04:59:24.865579",
     "exception": false,
     "start_time": "2024-07-27T04:59:24.848144",
     "status": "completed"
    },
    "tags": []
   },
   "source": [
    "# Remove Stop Words"
   ]
  },
  {
   "cell_type": "code",
   "execution_count": 32,
   "id": "a271233c",
   "metadata": {
    "execution": {
     "iopub.execute_input": "2024-07-27T04:59:24.903569Z",
     "iopub.status.busy": "2024-07-27T04:59:24.902770Z",
     "iopub.status.idle": "2024-07-27T04:59:24.907901Z",
     "shell.execute_reply": "2024-07-27T04:59:24.906723Z"
    },
    "papermill": {
     "duration": 0.026871,
     "end_time": "2024-07-27T04:59:24.910401",
     "exception": false,
     "start_time": "2024-07-27T04:59:24.883530",
     "status": "completed"
    },
    "tags": []
   },
   "outputs": [],
   "source": [
    "from nltk.corpus import stopwords"
   ]
  },
  {
   "cell_type": "code",
   "execution_count": 33,
   "id": "1a93d9bc",
   "metadata": {
    "execution": {
     "iopub.execute_input": "2024-07-27T04:59:24.947937Z",
     "iopub.status.busy": "2024-07-27T04:59:24.947521Z",
     "iopub.status.idle": "2024-07-27T04:59:24.962091Z",
     "shell.execute_reply": "2024-07-27T04:59:24.960921Z"
    },
    "papermill": {
     "duration": 0.036434,
     "end_time": "2024-07-27T04:59:24.964731",
     "exception": false,
     "start_time": "2024-07-27T04:59:24.928297",
     "status": "completed"
    },
    "tags": []
   },
   "outputs": [
    {
     "data": {
      "text/plain": [
       "['i',\n",
       " 'me',\n",
       " 'my',\n",
       " 'myself',\n",
       " 'we',\n",
       " 'our',\n",
       " 'ours',\n",
       " 'ourselves',\n",
       " 'you',\n",
       " \"you're\",\n",
       " \"you've\",\n",
       " \"you'll\",\n",
       " \"you'd\",\n",
       " 'your',\n",
       " 'yours',\n",
       " 'yourself',\n",
       " 'yourselves',\n",
       " 'he',\n",
       " 'him',\n",
       " 'his',\n",
       " 'himself',\n",
       " 'she',\n",
       " \"she's\",\n",
       " 'her',\n",
       " 'hers',\n",
       " 'herself',\n",
       " 'it',\n",
       " \"it's\",\n",
       " 'its',\n",
       " 'itself',\n",
       " 'they',\n",
       " 'them',\n",
       " 'their',\n",
       " 'theirs',\n",
       " 'themselves',\n",
       " 'what',\n",
       " 'which',\n",
       " 'who',\n",
       " 'whom',\n",
       " 'this',\n",
       " 'that',\n",
       " \"that'll\",\n",
       " 'these',\n",
       " 'those',\n",
       " 'am',\n",
       " 'is',\n",
       " 'are',\n",
       " 'was',\n",
       " 'were',\n",
       " 'be',\n",
       " 'been',\n",
       " 'being',\n",
       " 'have',\n",
       " 'has',\n",
       " 'had',\n",
       " 'having',\n",
       " 'do',\n",
       " 'does',\n",
       " 'did',\n",
       " 'doing',\n",
       " 'a',\n",
       " 'an',\n",
       " 'the',\n",
       " 'and',\n",
       " 'but',\n",
       " 'if',\n",
       " 'or',\n",
       " 'because',\n",
       " 'as',\n",
       " 'until',\n",
       " 'while',\n",
       " 'of',\n",
       " 'at',\n",
       " 'by',\n",
       " 'for',\n",
       " 'with',\n",
       " 'about',\n",
       " 'against',\n",
       " 'between',\n",
       " 'into',\n",
       " 'through',\n",
       " 'during',\n",
       " 'before',\n",
       " 'after',\n",
       " 'above',\n",
       " 'below',\n",
       " 'to',\n",
       " 'from',\n",
       " 'up',\n",
       " 'down',\n",
       " 'in',\n",
       " 'out',\n",
       " 'on',\n",
       " 'off',\n",
       " 'over',\n",
       " 'under',\n",
       " 'again',\n",
       " 'further',\n",
       " 'then',\n",
       " 'once',\n",
       " 'here',\n",
       " 'there',\n",
       " 'when',\n",
       " 'where',\n",
       " 'why',\n",
       " 'how',\n",
       " 'all',\n",
       " 'any',\n",
       " 'both',\n",
       " 'each',\n",
       " 'few',\n",
       " 'more',\n",
       " 'most',\n",
       " 'other',\n",
       " 'some',\n",
       " 'such',\n",
       " 'no',\n",
       " 'nor',\n",
       " 'not',\n",
       " 'only',\n",
       " 'own',\n",
       " 'same',\n",
       " 'so',\n",
       " 'than',\n",
       " 'too',\n",
       " 'very',\n",
       " 's',\n",
       " 't',\n",
       " 'can',\n",
       " 'will',\n",
       " 'just',\n",
       " 'don',\n",
       " \"don't\",\n",
       " 'should',\n",
       " \"should've\",\n",
       " 'now',\n",
       " 'd',\n",
       " 'll',\n",
       " 'm',\n",
       " 'o',\n",
       " 're',\n",
       " 've',\n",
       " 'y',\n",
       " 'ain',\n",
       " 'aren',\n",
       " \"aren't\",\n",
       " 'couldn',\n",
       " \"couldn't\",\n",
       " 'didn',\n",
       " \"didn't\",\n",
       " 'doesn',\n",
       " \"doesn't\",\n",
       " 'hadn',\n",
       " \"hadn't\",\n",
       " 'hasn',\n",
       " \"hasn't\",\n",
       " 'haven',\n",
       " \"haven't\",\n",
       " 'isn',\n",
       " \"isn't\",\n",
       " 'ma',\n",
       " 'mightn',\n",
       " \"mightn't\",\n",
       " 'mustn',\n",
       " \"mustn't\",\n",
       " 'needn',\n",
       " \"needn't\",\n",
       " 'shan',\n",
       " \"shan't\",\n",
       " 'shouldn',\n",
       " \"shouldn't\",\n",
       " 'wasn',\n",
       " \"wasn't\",\n",
       " 'weren',\n",
       " \"weren't\",\n",
       " 'won',\n",
       " \"won't\",\n",
       " 'wouldn',\n",
       " \"wouldn't\"]"
      ]
     },
     "execution_count": 33,
     "metadata": {},
     "output_type": "execute_result"
    }
   ],
   "source": [
    "stopwords.words('english')"
   ]
  },
  {
   "cell_type": "code",
   "execution_count": 34,
   "id": "bd886999",
   "metadata": {
    "execution": {
     "iopub.execute_input": "2024-07-27T04:59:25.003350Z",
     "iopub.status.busy": "2024-07-27T04:59:25.002960Z",
     "iopub.status.idle": "2024-07-27T04:59:25.009542Z",
     "shell.execute_reply": "2024-07-27T04:59:25.008373Z"
    },
    "papermill": {
     "duration": 0.028412,
     "end_time": "2024-07-27T04:59:25.011971",
     "exception": false,
     "start_time": "2024-07-27T04:59:24.983559",
     "status": "completed"
    },
    "tags": []
   },
   "outputs": [],
   "source": [
    "def remove_stop_word(text):\n",
    "    new_text = []\n",
    "    for word in text.split():\n",
    "        if word in stopwords.words('english'):\n",
    "            new_text.append('')\n",
    "        else:\n",
    "            new_text.append(word)\n",
    "    x = new_text[:]\n",
    "    new_text.clear()\n",
    "    return \" \".join(x)"
   ]
  },
  {
   "cell_type": "code",
   "execution_count": 35,
   "id": "f14334ef",
   "metadata": {
    "execution": {
     "iopub.execute_input": "2024-07-27T04:59:25.050355Z",
     "iopub.status.busy": "2024-07-27T04:59:25.049530Z",
     "iopub.status.idle": "2024-07-27T04:59:25.060185Z",
     "shell.execute_reply": "2024-07-27T04:59:25.059027Z"
    },
    "papermill": {
     "duration": 0.032165,
     "end_time": "2024-07-27T04:59:25.062409",
     "exception": false,
     "start_time": "2024-07-27T04:59:25.030244",
     "status": "completed"
    },
    "tags": []
   },
   "outputs": [
    {
     "data": {
      "text/html": [
       "<div>\n",
       "<style scoped>\n",
       "    .dataframe tbody tr th:only-of-type {\n",
       "        vertical-align: middle;\n",
       "    }\n",
       "\n",
       "    .dataframe tbody tr th {\n",
       "        vertical-align: top;\n",
       "    }\n",
       "\n",
       "    .dataframe thead th {\n",
       "        text-align: right;\n",
       "    }\n",
       "</style>\n",
       "<table border=\"1\" class=\"dataframe\">\n",
       "  <thead>\n",
       "    <tr style=\"text-align: right;\">\n",
       "      <th></th>\n",
       "      <th>id</th>\n",
       "      <th>label</th>\n",
       "      <th>tweet</th>\n",
       "    </tr>\n",
       "  </thead>\n",
       "  <tbody>\n",
       "    <tr>\n",
       "      <th>0</th>\n",
       "      <td>1</td>\n",
       "      <td>0</td>\n",
       "      <td>user when a father is dysfunctional and is so...</td>\n",
       "    </tr>\n",
       "    <tr>\n",
       "      <th>1</th>\n",
       "      <td>2</td>\n",
       "      <td>0</td>\n",
       "      <td>user user thanks for lyft credit i cant use ca...</td>\n",
       "    </tr>\n",
       "    <tr>\n",
       "      <th>2</th>\n",
       "      <td>3</td>\n",
       "      <td>0</td>\n",
       "      <td>bihday your majesty</td>\n",
       "    </tr>\n",
       "    <tr>\n",
       "      <th>3</th>\n",
       "      <td>4</td>\n",
       "      <td>0</td>\n",
       "      <td>model   i love u take with u all the time in u...</td>\n",
       "    </tr>\n",
       "    <tr>\n",
       "      <th>4</th>\n",
       "      <td>5</td>\n",
       "      <td>0</td>\n",
       "      <td>factsguide society now    motivation</td>\n",
       "    </tr>\n",
       "  </tbody>\n",
       "</table>\n",
       "</div>"
      ],
      "text/plain": [
       "   id  label                                              tweet\n",
       "0   1      0   user when a father is dysfunctional and is so...\n",
       "1   2      0  user user thanks for lyft credit i cant use ca...\n",
       "2   3      0                                bihday your majesty\n",
       "3   4      0  model   i love u take with u all the time in u...\n",
       "4   5      0               factsguide society now    motivation"
      ]
     },
     "execution_count": 35,
     "metadata": {},
     "output_type": "execute_result"
    }
   ],
   "source": [
    "df.head()"
   ]
  },
  {
   "cell_type": "code",
   "execution_count": 36,
   "id": "99b800cd",
   "metadata": {
    "execution": {
     "iopub.execute_input": "2024-07-27T04:59:25.101062Z",
     "iopub.status.busy": "2024-07-27T04:59:25.100612Z",
     "iopub.status.idle": "2024-07-27T05:00:22.404245Z",
     "shell.execute_reply": "2024-07-27T05:00:22.402954Z"
    },
    "papermill": {
     "duration": 57.341158,
     "end_time": "2024-07-27T05:00:22.421950",
     "exception": false,
     "start_time": "2024-07-27T04:59:25.080792",
     "status": "completed"
    },
    "tags": []
   },
   "outputs": [
    {
     "data": {
      "text/plain": [
       "0        user   father  dysfunctional    selfish  drags...\n",
       "1        user user thanks  lyft credit  cant use cause ...\n",
       "2                                          bihday  majesty\n",
       "3        model  love u take  u   time  urð± ððð...\n",
       "4                           factsguide society  motivation\n",
       "                               ...                        \n",
       "31957    ate user isz  youuuððððððð...\n",
       "31958     see nina turner   airwaves trying  wrap    ma...\n",
       "31959    listening  sad songs   monday morning otw  wor...\n",
       "31960    user sikh temple vandalised   calgary wso cond...\n",
       "31961                                 thank  user   follow\n",
       "Name: tweet, Length: 31962, dtype: object"
      ]
     },
     "execution_count": 36,
     "metadata": {},
     "output_type": "execute_result"
    }
   ],
   "source": [
    "df['tweet'].apply(remove_stop_word)"
   ]
  },
  {
   "cell_type": "markdown",
   "id": "741443b9",
   "metadata": {
    "papermill": {
     "duration": 0.018292,
     "end_time": "2024-07-27T05:00:22.458898",
     "exception": false,
     "start_time": "2024-07-27T05:00:22.440606",
     "status": "completed"
    },
    "tags": []
   },
   "source": [
    "# Handling Emojis"
   ]
  },
  {
   "cell_type": "code",
   "execution_count": 37,
   "id": "dda4593a",
   "metadata": {
    "execution": {
     "iopub.execute_input": "2024-07-27T05:00:22.498618Z",
     "iopub.status.busy": "2024-07-27T05:00:22.497547Z",
     "iopub.status.idle": "2024-07-27T05:00:22.504364Z",
     "shell.execute_reply": "2024-07-27T05:00:22.503141Z"
    },
    "papermill": {
     "duration": 0.029261,
     "end_time": "2024-07-27T05:00:22.506861",
     "exception": false,
     "start_time": "2024-07-27T05:00:22.477600",
     "status": "completed"
    },
    "tags": []
   },
   "outputs": [],
   "source": [
    "import re\n",
    "def remove_emojis(text):\n",
    "    emoji_pattern = re.compile(\"[\"\n",
    "                               u\"\\U0001F600-\\U0001F64F\"\n",
    "                               u\"\\U0001F300-\\U0001F5FF\"\n",
    "                               u\"\\U0001F680-\\U0001F6FF\"\n",
    "                               u\"\\U0001F1E0-\\U0001F1FF\"\n",
    "                               u\"\\U00002702-\\U00002780\"\n",
    "                               u\"\\U000024C2-\\U0001F251\"\n",
    "                               \"]+\",flags=re.UNICODE)\n",
    "    return emoji_pattern.sub(r'',text)"
   ]
  },
  {
   "cell_type": "code",
   "execution_count": 38,
   "id": "17535cef",
   "metadata": {
    "execution": {
     "iopub.execute_input": "2024-07-27T05:00:22.549250Z",
     "iopub.status.busy": "2024-07-27T05:00:22.548265Z",
     "iopub.status.idle": "2024-07-27T05:00:22.558852Z",
     "shell.execute_reply": "2024-07-27T05:00:22.557632Z"
    },
    "papermill": {
     "duration": 0.032805,
     "end_time": "2024-07-27T05:00:22.561125",
     "exception": false,
     "start_time": "2024-07-27T05:00:22.528320",
     "status": "completed"
    },
    "tags": []
   },
   "outputs": [
    {
     "data": {
      "text/plain": [
       "'Loved the movie,It was just '"
      ]
     },
     "execution_count": 38,
     "metadata": {},
     "output_type": "execute_result"
    }
   ],
   "source": [
    "remove_emojis(\"Loved the movie,It was just 😍😍😘\")"
   ]
  },
  {
   "cell_type": "code",
   "execution_count": 39,
   "id": "2e6e07c2",
   "metadata": {
    "execution": {
     "iopub.execute_input": "2024-07-27T05:00:22.601474Z",
     "iopub.status.busy": "2024-07-27T05:00:22.600379Z",
     "iopub.status.idle": "2024-07-27T05:00:22.650328Z",
     "shell.execute_reply": "2024-07-27T05:00:22.648891Z"
    },
    "papermill": {
     "duration": 0.072799,
     "end_time": "2024-07-27T05:00:22.653095",
     "exception": false,
     "start_time": "2024-07-27T05:00:22.580296",
     "status": "completed"
    },
    "tags": []
   },
   "outputs": [
    {
     "name": "stdout",
     "output_type": "stream",
     "text": [
      "Loved the movie,It was just :smiling_face_with_heart-eyes::smiling_face_with_heart-eyes::face_blowing_a_kiss:\n"
     ]
    }
   ],
   "source": [
    "import emoji\n",
    "print(emoji.demojize(\"Loved the movie,It was just 😍😍😘\"))"
   ]
  },
  {
   "cell_type": "markdown",
   "id": "365f6016",
   "metadata": {
    "papermill": {
     "duration": 0.018492,
     "end_time": "2024-07-27T05:00:22.690464",
     "exception": false,
     "start_time": "2024-07-27T05:00:22.671972",
     "status": "completed"
    },
    "tags": []
   },
   "source": [
    "# Tokenization\n",
    "1. using the split function"
   ]
  },
  {
   "cell_type": "code",
   "execution_count": 40,
   "id": "37e069a9",
   "metadata": {
    "execution": {
     "iopub.execute_input": "2024-07-27T05:00:22.730150Z",
     "iopub.status.busy": "2024-07-27T05:00:22.728812Z",
     "iopub.status.idle": "2024-07-27T05:00:22.736508Z",
     "shell.execute_reply": "2024-07-27T05:00:22.735496Z"
    },
    "papermill": {
     "duration": 0.029801,
     "end_time": "2024-07-27T05:00:22.738899",
     "exception": false,
     "start_time": "2024-07-27T05:00:22.709098",
     "status": "completed"
    },
    "tags": []
   },
   "outputs": [
    {
     "data": {
      "text/plain": [
       "['I', 'am', 'new', 'in', 'New', 'Delhi']"
      ]
     },
     "execution_count": 40,
     "metadata": {},
     "output_type": "execute_result"
    }
   ],
   "source": [
    "#word tokenization\n",
    "\n",
    "sent1 = 'I am new in New Delhi'\n",
    "sent1.split()"
   ]
  },
  {
   "cell_type": "code",
   "execution_count": 41,
   "id": "beac7d41",
   "metadata": {
    "execution": {
     "iopub.execute_input": "2024-07-27T05:00:22.778545Z",
     "iopub.status.busy": "2024-07-27T05:00:22.777496Z",
     "iopub.status.idle": "2024-07-27T05:00:22.784725Z",
     "shell.execute_reply": "2024-07-27T05:00:22.783678Z"
    },
    "papermill": {
     "duration": 0.029436,
     "end_time": "2024-07-27T05:00:22.787108",
     "exception": false,
     "start_time": "2024-07-27T05:00:22.757672",
     "status": "completed"
    },
    "tags": []
   },
   "outputs": [
    {
     "data": {
      "text/plain": [
       "['I am working in London', ' I love eating fruits', ' We will go to Banglore']"
      ]
     },
     "execution_count": 41,
     "metadata": {},
     "output_type": "execute_result"
    }
   ],
   "source": [
    "# sentence tokenization\n",
    "\n",
    "sent1 = 'I am working in London. I love eating fruits. We will go to Banglore'\n",
    "sent1.split('.')"
   ]
  },
  {
   "cell_type": "markdown",
   "id": "b5d98158",
   "metadata": {
    "papermill": {
     "duration": 0.018397,
     "end_time": "2024-07-27T05:00:22.824269",
     "exception": false,
     "start_time": "2024-07-27T05:00:22.805872",
     "status": "completed"
    },
    "tags": []
   },
   "source": [
    "2.Regular Expression"
   ]
  },
  {
   "cell_type": "code",
   "execution_count": 42,
   "id": "ca2448ec",
   "metadata": {
    "execution": {
     "iopub.execute_input": "2024-07-27T05:00:22.863416Z",
     "iopub.status.busy": "2024-07-27T05:00:22.863021Z",
     "iopub.status.idle": "2024-07-27T05:00:22.871147Z",
     "shell.execute_reply": "2024-07-27T05:00:22.869888Z"
    },
    "papermill": {
     "duration": 0.030701,
     "end_time": "2024-07-27T05:00:22.873729",
     "exception": false,
     "start_time": "2024-07-27T05:00:22.843028",
     "status": "completed"
    },
    "tags": []
   },
   "outputs": [
    {
     "data": {
      "text/plain": [
       "['I', 'am', 'going', 'to', 'Agra']"
      ]
     },
     "execution_count": 42,
     "metadata": {},
     "output_type": "execute_result"
    }
   ],
   "source": [
    "import re\n",
    "sent3 = 'I am going to Agra!'\n",
    "tokens = re.findall(\"[\\w']+\",sent3)\n",
    "tokens"
   ]
  },
  {
   "cell_type": "code",
   "execution_count": 43,
   "id": "fe9c4a4e",
   "metadata": {
    "execution": {
     "iopub.execute_input": "2024-07-27T05:00:22.914699Z",
     "iopub.status.busy": "2024-07-27T05:00:22.914245Z",
     "iopub.status.idle": "2024-07-27T05:00:22.922109Z",
     "shell.execute_reply": "2024-07-27T05:00:22.921017Z"
    },
    "papermill": {
     "duration": 0.031817,
     "end_time": "2024-07-27T05:00:22.924554",
     "exception": false,
     "start_time": "2024-07-27T05:00:22.892737",
     "status": "completed"
    },
    "tags": []
   },
   "outputs": [
    {
     "data": {
      "text/plain": [
       "['Lorem ipsum dolor sit amet, consectetur adipiscing elit',\n",
       " ' Sed do eiusmod tempor incididunt ut labore et dolore magna aliqua',\n",
       " ' \\nUt enim ad minim veniam, quis nostrud exercitation ullamco laboris nisi ut aliquip ex ea commodo consequat',\n",
       " ' \\nDuis aute irure dolor in reprehenderit in voluptate velit esse cillum dolore eu fugiat nulla pariatur',\n",
       " ' \\nExcepteur sint occaecat cupidatat non proident, sunt in culpa qui officia deserunt mollit anim id est laborum',\n",
       " '\\n']"
      ]
     },
     "execution_count": 43,
     "metadata": {},
     "output_type": "execute_result"
    }
   ],
   "source": [
    "text = \"\"\"Lorem ipsum dolor sit amet, consectetur adipiscing elit. Sed do eiusmod tempor incididunt ut labore et dolore magna aliqua. \n",
    "Ut enim ad minim veniam, quis nostrud exercitation ullamco laboris nisi ut aliquip ex ea commodo consequat. \n",
    "Duis aute irure dolor in reprehenderit in voluptate velit esse cillum dolore eu fugiat nulla pariatur. \n",
    "Excepteur sint occaecat cupidatat non proident, sunt in culpa qui officia deserunt mollit anim id est laborum.\n",
    "\"\"\"\n",
    "sentences = re.compile('[.!?]').split(text)\n",
    "sentences"
   ]
  },
  {
   "cell_type": "markdown",
   "id": "16134354",
   "metadata": {
    "papermill": {
     "duration": 0.01887,
     "end_time": "2024-07-27T05:00:22.962762",
     "exception": false,
     "start_time": "2024-07-27T05:00:22.943892",
     "status": "completed"
    },
    "tags": []
   },
   "source": [
    "3.NLTK"
   ]
  },
  {
   "cell_type": "code",
   "execution_count": 44,
   "id": "cef3f718",
   "metadata": {
    "execution": {
     "iopub.execute_input": "2024-07-27T05:00:23.002290Z",
     "iopub.status.busy": "2024-07-27T05:00:23.001892Z",
     "iopub.status.idle": "2024-07-27T05:00:23.006975Z",
     "shell.execute_reply": "2024-07-27T05:00:23.005894Z"
    },
    "papermill": {
     "duration": 0.028383,
     "end_time": "2024-07-27T05:00:23.009971",
     "exception": false,
     "start_time": "2024-07-27T05:00:22.981588",
     "status": "completed"
    },
    "tags": []
   },
   "outputs": [],
   "source": [
    "from nltk.tokenize import word_tokenize,sent_tokenize"
   ]
  },
  {
   "cell_type": "code",
   "execution_count": 45,
   "id": "ef9a5763",
   "metadata": {
    "execution": {
     "iopub.execute_input": "2024-07-27T05:00:23.051175Z",
     "iopub.status.busy": "2024-07-27T05:00:23.050065Z",
     "iopub.status.idle": "2024-07-27T05:00:23.055500Z",
     "shell.execute_reply": "2024-07-27T05:00:23.054383Z"
    },
    "papermill": {
     "duration": 0.028663,
     "end_time": "2024-07-27T05:00:23.057955",
     "exception": false,
     "start_time": "2024-07-27T05:00:23.029292",
     "status": "completed"
    },
    "tags": []
   },
   "outputs": [],
   "source": [
    "sent3 = \"I have a PHd in AI!@#\"\n",
    "sent4 = \"we are here to help ! mail us at hhkjshks@gmail.com\"\n",
    "sent5= \" A 5km ride cost $90.3\"\n"
   ]
  },
  {
   "cell_type": "code",
   "execution_count": 46,
   "id": "9f9c84b2",
   "metadata": {
    "execution": {
     "iopub.execute_input": "2024-07-27T05:00:23.098258Z",
     "iopub.status.busy": "2024-07-27T05:00:23.097295Z",
     "iopub.status.idle": "2024-07-27T05:00:23.117838Z",
     "shell.execute_reply": "2024-07-27T05:00:23.116519Z"
    },
    "papermill": {
     "duration": 0.043426,
     "end_time": "2024-07-27T05:00:23.120384",
     "exception": false,
     "start_time": "2024-07-27T05:00:23.076958",
     "status": "completed"
    },
    "tags": []
   },
   "outputs": [
    {
     "data": {
      "text/plain": [
       "['I', 'have', 'a', 'PHd', 'in', 'AI', '!', '@', '#']"
      ]
     },
     "execution_count": 46,
     "metadata": {},
     "output_type": "execute_result"
    }
   ],
   "source": [
    "word_tokenize(sent3)"
   ]
  },
  {
   "cell_type": "code",
   "execution_count": 47,
   "id": "98334560",
   "metadata": {
    "execution": {
     "iopub.execute_input": "2024-07-27T05:00:23.160455Z",
     "iopub.status.busy": "2024-07-27T05:00:23.159678Z",
     "iopub.status.idle": "2024-07-27T05:00:23.166938Z",
     "shell.execute_reply": "2024-07-27T05:00:23.165889Z"
    },
    "papermill": {
     "duration": 0.029939,
     "end_time": "2024-07-27T05:00:23.169225",
     "exception": false,
     "start_time": "2024-07-27T05:00:23.139286",
     "status": "completed"
    },
    "tags": []
   },
   "outputs": [
    {
     "data": {
      "text/plain": [
       "['we',\n",
       " 'are',\n",
       " 'here',\n",
       " 'to',\n",
       " 'help',\n",
       " '!',\n",
       " 'mail',\n",
       " 'us',\n",
       " 'at',\n",
       " 'hhkjshks',\n",
       " '@',\n",
       " 'gmail.com']"
      ]
     },
     "execution_count": 47,
     "metadata": {},
     "output_type": "execute_result"
    }
   ],
   "source": [
    "word_tokenize(sent4)"
   ]
  },
  {
   "cell_type": "code",
   "execution_count": 48,
   "id": "56d26fbe",
   "metadata": {
    "execution": {
     "iopub.execute_input": "2024-07-27T05:00:23.209278Z",
     "iopub.status.busy": "2024-07-27T05:00:23.208892Z",
     "iopub.status.idle": "2024-07-27T05:00:23.216261Z",
     "shell.execute_reply": "2024-07-27T05:00:23.215170Z"
    },
    "papermill": {
     "duration": 0.030262,
     "end_time": "2024-07-27T05:00:23.218669",
     "exception": false,
     "start_time": "2024-07-27T05:00:23.188407",
     "status": "completed"
    },
    "tags": []
   },
   "outputs": [
    {
     "data": {
      "text/plain": [
       "['A', '5km', 'ride', 'cost', '$', '90.3']"
      ]
     },
     "execution_count": 48,
     "metadata": {},
     "output_type": "execute_result"
    }
   ],
   "source": [
    "word_tokenize(sent5)"
   ]
  },
  {
   "cell_type": "markdown",
   "id": "170de5c5",
   "metadata": {
    "papermill": {
     "duration": 0.018859,
     "end_time": "2024-07-27T05:00:23.256894",
     "exception": false,
     "start_time": "2024-07-27T05:00:23.238035",
     "status": "completed"
    },
    "tags": []
   },
   "source": [
    "4. Spacy"
   ]
  },
  {
   "cell_type": "code",
   "execution_count": 49,
   "id": "f11b28d7",
   "metadata": {
    "execution": {
     "iopub.execute_input": "2024-07-27T05:00:23.299159Z",
     "iopub.status.busy": "2024-07-27T05:00:23.297614Z",
     "iopub.status.idle": "2024-07-27T05:00:24.748732Z",
     "shell.execute_reply": "2024-07-27T05:00:24.747530Z"
    },
    "papermill": {
     "duration": 1.475506,
     "end_time": "2024-07-27T05:00:24.751445",
     "exception": false,
     "start_time": "2024-07-27T05:00:23.275939",
     "status": "completed"
    },
    "tags": []
   },
   "outputs": [],
   "source": [
    "import spacy\n",
    "nlp=spacy.load('en_core_web_sm')"
   ]
  },
  {
   "cell_type": "raw",
   "id": "41c327c7",
   "metadata": {
    "papermill": {
     "duration": 0.018907,
     "end_time": "2024-07-27T05:00:24.789746",
     "exception": false,
     "start_time": "2024-07-27T05:00:24.770839",
     "status": "completed"
    },
    "tags": []
   },
   "source": [
    "import spacy\n",
    "nlp=spcay,load('en_core_web_sn')"
   ]
  },
  {
   "cell_type": "code",
   "execution_count": 50,
   "id": "76b68145",
   "metadata": {
    "execution": {
     "iopub.execute_input": "2024-07-27T05:00:24.830939Z",
     "iopub.status.busy": "2024-07-27T05:00:24.830489Z",
     "iopub.status.idle": "2024-07-27T05:00:24.887108Z",
     "shell.execute_reply": "2024-07-27T05:00:24.885871Z"
    },
    "papermill": {
     "duration": 0.081046,
     "end_time": "2024-07-27T05:00:24.890157",
     "exception": false,
     "start_time": "2024-07-27T05:00:24.809111",
     "status": "completed"
    },
    "tags": []
   },
   "outputs": [],
   "source": [
    "doc1 = nlp(sent1)\n",
    "doc2 = nlp(sent3)\n",
    "doc3 = nlp(sent4)\n",
    "doc4 = nlp(sent5)"
   ]
  },
  {
   "cell_type": "code",
   "execution_count": 51,
   "id": "bc08182e",
   "metadata": {
    "execution": {
     "iopub.execute_input": "2024-07-27T05:00:24.932724Z",
     "iopub.status.busy": "2024-07-27T05:00:24.932268Z",
     "iopub.status.idle": "2024-07-27T05:00:24.938219Z",
     "shell.execute_reply": "2024-07-27T05:00:24.936957Z"
    },
    "papermill": {
     "duration": 0.029392,
     "end_time": "2024-07-27T05:00:24.940859",
     "exception": false,
     "start_time": "2024-07-27T05:00:24.911467",
     "status": "completed"
    },
    "tags": []
   },
   "outputs": [
    {
     "name": "stdout",
     "output_type": "stream",
     "text": [
      " \n",
      "A\n",
      "5\n",
      "km\n",
      "ride\n",
      "cost\n",
      "$\n",
      "90.3\n"
     ]
    }
   ],
   "source": [
    "for token in doc4:\n",
    "    print(token)"
   ]
  },
  {
   "cell_type": "markdown",
   "id": "5ba9c87d",
   "metadata": {
    "papermill": {
     "duration": 0.018955,
     "end_time": "2024-07-27T05:00:24.979248",
     "exception": false,
     "start_time": "2024-07-27T05:00:24.960293",
     "status": "completed"
    },
    "tags": []
   },
   "source": [
    "4.Stemming and Lemitization"
   ]
  },
  {
   "cell_type": "code",
   "execution_count": 52,
   "id": "c10dcc52",
   "metadata": {
    "execution": {
     "iopub.execute_input": "2024-07-27T05:00:25.019872Z",
     "iopub.status.busy": "2024-07-27T05:00:25.019381Z",
     "iopub.status.idle": "2024-07-27T05:00:25.024788Z",
     "shell.execute_reply": "2024-07-27T05:00:25.023665Z"
    },
    "papermill": {
     "duration": 0.02859,
     "end_time": "2024-07-27T05:00:25.027306",
     "exception": false,
     "start_time": "2024-07-27T05:00:24.998716",
     "status": "completed"
    },
    "tags": []
   },
   "outputs": [],
   "source": [
    "from nltk.stem.porter import PorterStemmer"
   ]
  },
  {
   "cell_type": "code",
   "execution_count": 53,
   "id": "3b7aab6f",
   "metadata": {
    "execution": {
     "iopub.execute_input": "2024-07-27T05:00:25.068091Z",
     "iopub.status.busy": "2024-07-27T05:00:25.067658Z",
     "iopub.status.idle": "2024-07-27T05:00:25.073722Z",
     "shell.execute_reply": "2024-07-27T05:00:25.072480Z"
    },
    "papermill": {
     "duration": 0.029345,
     "end_time": "2024-07-27T05:00:25.076221",
     "exception": false,
     "start_time": "2024-07-27T05:00:25.046876",
     "status": "completed"
    },
    "tags": []
   },
   "outputs": [],
   "source": [
    "ps = PorterStemmer()\n",
    "def stem_words(text):\n",
    "    return \" \".join([ps.stem(word) for word in text.split()])"
   ]
  },
  {
   "cell_type": "code",
   "execution_count": 54,
   "id": "89404ec3",
   "metadata": {
    "execution": {
     "iopub.execute_input": "2024-07-27T05:00:25.118184Z",
     "iopub.status.busy": "2024-07-27T05:00:25.117769Z",
     "iopub.status.idle": "2024-07-27T05:00:25.125310Z",
     "shell.execute_reply": "2024-07-27T05:00:25.124073Z"
    },
    "papermill": {
     "duration": 0.032226,
     "end_time": "2024-07-27T05:00:25.128101",
     "exception": false,
     "start_time": "2024-07-27T05:00:25.095875",
     "status": "completed"
    },
    "tags": []
   },
   "outputs": [
    {
     "data": {
      "text/plain": [
       "'walk walk walk walk'"
      ]
     },
     "execution_count": 54,
     "metadata": {},
     "output_type": "execute_result"
    }
   ],
   "source": [
    "sample = \"walk walks walking walked\"\n",
    "stem_words(sample)"
   ]
  },
  {
   "cell_type": "markdown",
   "id": "5f96484c",
   "metadata": {
    "papermill": {
     "duration": 0.019324,
     "end_time": "2024-07-27T05:00:25.167541",
     "exception": false,
     "start_time": "2024-07-27T05:00:25.148217",
     "status": "completed"
    },
    "tags": []
   },
   "source": []
  },
  {
   "cell_type": "code",
   "execution_count": 55,
   "id": "de3af523",
   "metadata": {
    "execution": {
     "iopub.execute_input": "2024-07-27T05:00:25.209872Z",
     "iopub.status.busy": "2024-07-27T05:00:25.209410Z",
     "iopub.status.idle": "2024-07-27T05:00:25.216731Z",
     "shell.execute_reply": "2024-07-27T05:00:25.215046Z"
    },
    "papermill": {
     "duration": 0.031621,
     "end_time": "2024-07-27T05:00:25.219212",
     "exception": false,
     "start_time": "2024-07-27T05:00:25.187591",
     "status": "completed"
    },
    "tags": []
   },
   "outputs": [
    {
     "name": "stdout",
     "output_type": "stream",
     "text": [
      "Time is a thing that has no beginning and no end. It is the most practical and useful thing. You cannot control the time, you cannot force it to go at a slower pace, and you cannot speed it up. It will work at its pace. Children can learn a great deal about it by writing an essay on the value of time for classes 1, 2 and 3.\n"
     ]
    }
   ],
   "source": [
    "text = \"\"\"Time is a thing that has no beginning and no end. It is the most practical and useful thing. You cannot control the time, you cannot force it to go at a slower pace, and you cannot speed it up. It will work at its pace. Children can learn a great deal about it by writing an essay on the value of time for classes 1, 2 and 3.\"\"\"\n",
    "print(text)"
   ]
  },
  {
   "cell_type": "code",
   "execution_count": 56,
   "id": "7e5b7557",
   "metadata": {
    "execution": {
     "iopub.execute_input": "2024-07-27T05:00:25.261223Z",
     "iopub.status.busy": "2024-07-27T05:00:25.260151Z",
     "iopub.status.idle": "2024-07-27T05:00:25.269228Z",
     "shell.execute_reply": "2024-07-27T05:00:25.267973Z"
    },
    "papermill": {
     "duration": 0.032474,
     "end_time": "2024-07-27T05:00:25.271745",
     "exception": false,
     "start_time": "2024-07-27T05:00:25.239271",
     "status": "completed"
    },
    "tags": []
   },
   "outputs": [
    {
     "data": {
      "text/plain": [
       "'time is a thing that ha no begin and no end. It is the most practic and use thing. you cannot control the time, you cannot forc it to go at a slower pace, and you cannot speed it up. It will work at it pace. children can learn a great deal about it by write an essay on the valu of time for class 1, 2 and 3.'"
      ]
     },
     "execution_count": 56,
     "metadata": {},
     "output_type": "execute_result"
    }
   ],
   "source": [
    "stem_words(text)"
   ]
  },
  {
   "cell_type": "markdown",
   "id": "7a2a873a",
   "metadata": {
    "papermill": {
     "duration": 0.019635,
     "end_time": "2024-07-27T05:00:25.311121",
     "exception": false,
     "start_time": "2024-07-27T05:00:25.291486",
     "status": "completed"
    },
    "tags": []
   },
   "source": [
    "Lemitization"
   ]
  },
  {
   "cell_type": "code",
   "execution_count": 57,
   "id": "8335e5c9",
   "metadata": {
    "execution": {
     "iopub.execute_input": "2024-07-27T05:00:25.352576Z",
     "iopub.status.busy": "2024-07-27T05:00:25.352153Z",
     "iopub.status.idle": "2024-07-27T05:00:27.411933Z",
     "shell.execute_reply": "2024-07-27T05:00:27.410531Z"
    },
    "papermill": {
     "duration": 2.083527,
     "end_time": "2024-07-27T05:00:27.414738",
     "exception": false,
     "start_time": "2024-07-27T05:00:25.331211",
     "status": "completed"
    },
    "tags": []
   },
   "outputs": [
    {
     "name": "stdout",
     "output_type": "stream",
     "text": [
      "Word                Lemma               \n",
      "he                  he                  \n",
      "was                 be                  \n",
      "running             run                 \n",
      "and                 and                 \n",
      "eating              eat                 \n",
      "at                  at                  \n",
      "same                same                \n",
      "time                time                \n",
      "He                  He                  \n",
      "has                 have                \n",
      "a                   a                   \n",
      "bad                 bad                 \n",
      "habit               habit               \n",
      "of                  of                  \n",
      "swimming            swim                \n",
      "after               after               \n",
      "playing             play                \n",
      "long                long                \n",
      "hours               hours               \n",
      "in                  in                  \n",
      "the                 the                 \n",
      "sun                 sun                 \n"
     ]
    }
   ],
   "source": [
    "import nltk \n",
    "from nltk.stem import WordNetLemmatizer\n",
    "wordnet_lemmatizer = WordNetLemmatizer()\n",
    "\n",
    "sentence = \"he was running and eating at same time. He has a bad habit of swimming after playing long hours in the sun.\"\n",
    "punctuation = \"?:!,.;\"\n",
    "sentence_words = nltk.word_tokenize(sentence)\n",
    "for word in sentence_words:\n",
    "    if word in punctuation:\n",
    "        sentence_words.remove(word)\n",
    "sentence_words\n",
    "print(\"{0:20}{1:20}\".format(\"Word\",\"Lemma\"))\n",
    "for word in sentence_words:\n",
    "    print(\"{0:20}{1:20}\".format(word,wordnet_lemmatizer.lemmatize(word,pos='v')))"
   ]
  },
  {
   "cell_type": "code",
   "execution_count": null,
   "id": "c2b40219",
   "metadata": {
    "papermill": {
     "duration": 0.021459,
     "end_time": "2024-07-27T05:00:27.456445",
     "exception": false,
     "start_time": "2024-07-27T05:00:27.434986",
     "status": "completed"
    },
    "tags": []
   },
   "outputs": [],
   "source": []
  }
 ],
 "metadata": {
  "kaggle": {
   "accelerator": "none",
   "dataSources": [
    {
     "datasetId": 100982,
     "sourceId": 239192,
     "sourceType": "datasetVersion"
    },
    {
     "datasetId": 134715,
     "sourceId": 320111,
     "sourceType": "datasetVersion"
    }
   ],
   "dockerImageVersionId": 30203,
   "isGpuEnabled": false,
   "isInternetEnabled": false,
   "language": "python",
   "sourceType": "notebook"
  },
  "kernelspec": {
   "display_name": "Python 3",
   "language": "python",
   "name": "python3"
  },
  "language_info": {
   "codemirror_mode": {
    "name": "ipython",
    "version": 3
   },
   "file_extension": ".py",
   "mimetype": "text/x-python",
   "name": "python",
   "nbconvert_exporter": "python",
   "pygments_lexer": "ipython3",
   "version": "3.7.12"
  },
  "papermill": {
   "default_parameters": {},
   "duration": 79.511352,
   "end_time": "2024-07-27T05:00:28.499860",
   "environment_variables": {},
   "exception": null,
   "input_path": "__notebook__.ipynb",
   "output_path": "__notebook__.ipynb",
   "parameters": {},
   "start_time": "2024-07-27T04:59:08.988508",
   "version": "2.3.4"
  }
 },
 "nbformat": 4,
 "nbformat_minor": 5
}
